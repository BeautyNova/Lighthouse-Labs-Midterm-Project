{
 "cells": [
  {
   "cell_type": "code",
   "execution_count": 9,
   "id": "d8c0cd6d-ebc1-436a-91ca-790f90bf5747",
   "metadata": {},
   "outputs": [],
   "source": [
    "#importing libraries\n",
    "import pandas as pd\n",
    "import json\n",
    "import requests\n",
    "from openpyxl import load_workbook\n"
   ]
  },
  {
   "cell_type": "code",
   "execution_count": 2,
   "id": "911a2756-76c8-476a-a37a-6d719fcbab08",
   "metadata": {},
   "outputs": [
    {
     "data": {
      "text/html": [
       "<div>\n",
       "<style scoped>\n",
       "    .dataframe tbody tr th:only-of-type {\n",
       "        vertical-align: middle;\n",
       "    }\n",
       "\n",
       "    .dataframe tbody tr th {\n",
       "        vertical-align: top;\n",
       "    }\n",
       "\n",
       "    .dataframe thead th {\n",
       "        text-align: right;\n",
       "    }\n",
       "</style>\n",
       "<table border=\"1\" class=\"dataframe\">\n",
       "  <thead>\n",
       "    <tr style=\"text-align: right;\">\n",
       "      <th></th>\n",
       "      <th>Unnamed: 0</th>\n",
       "      <th>Neighborhood</th>\n",
       "      <th>Borough</th>\n",
       "      <th>lat</th>\n",
       "      <th>long</th>\n",
       "    </tr>\n",
       "  </thead>\n",
       "  <tbody>\n",
       "    <tr>\n",
       "      <th>0</th>\n",
       "      <td>0</td>\n",
       "      <td>Wakefield</td>\n",
       "      <td>Bronx</td>\n",
       "      <td>40.8947</td>\n",
       "      <td>-73.8472</td>\n",
       "    </tr>\n",
       "    <tr>\n",
       "      <th>1</th>\n",
       "      <td>1</td>\n",
       "      <td>Co-op City</td>\n",
       "      <td>Bronx</td>\n",
       "      <td>40.8743</td>\n",
       "      <td>-73.8299</td>\n",
       "    </tr>\n",
       "    <tr>\n",
       "      <th>2</th>\n",
       "      <td>2</td>\n",
       "      <td>Eastchester</td>\n",
       "      <td>Bronx</td>\n",
       "      <td>40.8876</td>\n",
       "      <td>-73.8278</td>\n",
       "    </tr>\n",
       "    <tr>\n",
       "      <th>3</th>\n",
       "      <td>3</td>\n",
       "      <td>Fieldston</td>\n",
       "      <td>Bronx</td>\n",
       "      <td>40.8954</td>\n",
       "      <td>-73.9056</td>\n",
       "    </tr>\n",
       "    <tr>\n",
       "      <th>4</th>\n",
       "      <td>4</td>\n",
       "      <td>Riverdale</td>\n",
       "      <td>Bronx</td>\n",
       "      <td>40.8908</td>\n",
       "      <td>-73.9126</td>\n",
       "    </tr>\n",
       "  </tbody>\n",
       "</table>\n",
       "</div>"
      ],
      "text/plain": [
       "   Unnamed: 0 Neighborhood Borough      lat     long\n",
       "0           0    Wakefield   Bronx  40.8947 -73.8472\n",
       "1           1   Co-op City   Bronx  40.8743 -73.8299\n",
       "2           2  Eastchester   Bronx  40.8876 -73.8278\n",
       "3           3    Fieldston   Bronx  40.8954 -73.9056\n",
       "4           4    Riverdale   Bronx  40.8908 -73.9126"
      ]
     },
     "execution_count": 2,
     "metadata": {},
     "output_type": "execute_result"
    }
   ],
   "source": [
    "nyc_geo = pd.read_csv('nyc_geo_dataframe.csv')\n",
    "nyc_geo.head()"
   ]
  },
  {
   "cell_type": "code",
   "execution_count": 25,
   "id": "ef09787c-b0eb-437d-b374-27d9f778c21b",
   "metadata": {},
   "outputs": [],
   "source": [
    "#setting API url, headers, parameters\n",
    "url = 'https://api.foursquare.com/v3/places/search'\n",
    "\n",
    "headers = {\n",
    "    'Accept': 'application/json',\n",
    "    'Authorization': 'fsq3kLBdN2POhudYIhpCkJ56NK7j2eBAU/KvfmS65pCAXTM='    \n",
    "}\n",
    "\n",
    "parameters = {'fields' : 'fsq_id,location,categories,price,rating,popularity,stats',\n",
    "            'sort' : 'RATING',\n",
    "            'limit' : '50',\n",
    "            'near' : ''\n",
    "           }\n"
   ]
  },
  {
   "cell_type": "code",
   "execution_count": 24,
   "id": "77ca9c49-4143-4bea-a2c5-1355ed0dc0b9",
   "metadata": {},
   "outputs": [],
   "source": [
    "#write in excel\n",
    "book = load_workbook('FoursquareResults.xlsx')\n",
    "writer = pd.ExcelWriter('FoursquareResults.xlsx', engine='openpyxl') \n",
    "writer.book = book\n",
    "writer.sheets = dict((ws.title, ws) for ws in book.worksheets)\n"
   ]
  },
  {
   "cell_type": "code",
   "execution_count": 26,
   "id": "6f3b679a-f08a-40c9-8961-81e745d5fab8",
   "metadata": {},
   "outputs": [],
   "source": [
    "#create for loop to get all the neighbourhoods\n",
    "for i in range (0, 306):\n",
    "    \n",
    "    #adjusting parameter for each neighborhood\n",
    "    location = nyc_geo['Neighborhood'].iloc[i] + ', ' + nyc_geo['Borough'].iloc[i]\n",
    "    parameters['near'] = location\n",
    "    \n",
    "    #executing API\n",
    "    response = requests.get(url, headers=headers, params = parameters)\n",
    "\n",
    "    response  = response.json()\n",
    "    df = pd.DataFrame(pd.json_normalize(response, record_path = \"results\"))\n",
    "    \n",
    "    #saving response as csv\n",
    "    startrow = writer.sheets['Sheet1'].max_row\n",
    "    \n",
    "    for sheetname in writer.sheets:\n",
    "        df.to_excel(writer,sheet_name=sheetname, startrow=writer.sheets[sheetname].max_row, index = False,header= False)\n",
    "\n",
    "    writer.save()"
   ]
  },
  {
   "cell_type": "code",
   "execution_count": null,
   "id": "93a46e53-c416-4a1f-90ef-b91922feea76",
   "metadata": {},
   "outputs": [],
   "source": []
  }
 ],
 "metadata": {
  "kernelspec": {
   "display_name": "test_env",
   "language": "python",
   "name": "test_env"
  },
  "language_info": {
   "codemirror_mode": {
    "name": "ipython",
    "version": 3
   },
   "file_extension": ".py",
   "mimetype": "text/x-python",
   "name": "python",
   "nbconvert_exporter": "python",
   "pygments_lexer": "ipython3",
   "version": "3.9.11"
  }
 },
 "nbformat": 4,
 "nbformat_minor": 5
}
